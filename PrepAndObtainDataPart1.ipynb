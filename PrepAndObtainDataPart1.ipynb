{
 "cells": [
  {
   "cell_type": "code",
   "execution_count": 1,
   "id": "6754c970-ca25-461a-a366-55d2ebfdfffe",
   "metadata": {},
   "outputs": [],
   "source": [
    "import json\n",
    "import pandas as pd\n",
    "from datetime import datetime\n",
    "import spotipy\n",
    "from spotipy.oauth2 import SpotifyOAuth\n",
    "from spotipy.oauth2 import SpotifyClientCredentials\n",
    "import time\n",
    "from tqdm import tqdm\n",
    "import numpy as np\n",
    "\n",
    "client_id = 'replace with your client id'\n",
    "client_secret = 'replace with your client secret'\n",
    "redirect_uri = 'replace with your redirect uri'"
   ]
  },
  {
   "cell_type": "code",
   "execution_count": 2,
   "id": "2e2626d7",
   "metadata": {},
   "outputs": [],
   "source": [
    "client_credentials_manager = SpotifyClientCredentials(\n",
    "        client_id=client_id,\n",
    "        client_secret=client_secret\n",
    "    )\n",
    "sp = spotipy.Spotify(client_credentials_manager=client_credentials_manager)"
   ]
  },
  {
   "cell_type": "code",
   "execution_count": 3,
   "id": "70863d0a-f30a-4a5c-8e84-43a94cf7d90e",
   "metadata": {},
   "outputs": [],
   "source": [
    "# Load extended streaming history\n",
    "with open(\"RawData/Streaming_History_Audio_2024_9.json\", 'r', encoding='utf-8') as file:\n",
    "    listen24 = pd.DataFrame(json.load(file))\n",
    "    \n",
    "with open(\"RawData/Streaming_History_Audio_2023_7.json\", 'r', encoding='utf-8') as file:\n",
    "    listen23 = pd.DataFrame(json.load(file))\n",
    "                            \n",
    "with open(\"RawData\", 'r', encoding='utf-8') as file:\n",
    "    listen21_22 = pd.DataFrame(json.load(file))"
   ]
  },
  {
   "cell_type": "code",
   "execution_count": 7,
   "id": "e8eb4c50",
   "metadata": {},
   "outputs": [],
   "source": [
    "\n",
    "def get_artist_id(track_uri):\n",
    "    try:\n",
    "        return sp.track(track_uri)['artists'][0]['id']\n",
    "    except:\n",
    "        return pd.NA\n",
    "\n",
    "def get_artist_top_track_popularity(artist_id):\n",
    "    top_track_popularities = []\n",
    "    try:\n",
    "        for track in sp.artist_top_tracks(artist_id)['tracks']:\n",
    "            top_track_popularities.append(track['popularity'])\n",
    "        return np.mean(top_track_popularities)\n",
    "    except:\n",
    "        return pd.NA\n",
    "\n",
    "def get_artist_genres(artist_id):\n",
    "    try:\n",
    "        return sp.artist(artist_id)['genres']\n",
    "    except:\n",
    "        return []\n",
    "\n",
    "def get_track_popularity(track_uri):\n",
    "    try:\n",
    "        return sp.track(track_uri)['popularity']\n",
    "    except:\n",
    "        return pd.NA"
   ]
  },
  {
   "cell_type": "code",
   "execution_count": 8,
   "id": "812d5d70-70a2-4be2-b80d-931d94e6e56b",
   "metadata": {},
   "outputs": [],
   "source": [
    "def get_spotify_features(df, client_id, client_secret):\n",
    "    \"\"\"\n",
    "    Add Spotify audio features to each row of the dataframe with better error handling\n",
    "    \"\"\"\n",
    "    # Initialize Spotify client\n",
    "    client_credentials_manager = SpotifyClientCredentials(\n",
    "        client_id=client_id,\n",
    "        client_secret=client_secret\n",
    "    )\n",
    "    sp = spotipy.Spotify(client_credentials_manager=client_credentials_manager)\n",
    "    \n",
    "    # Get unique URIs\n",
    "    unique_uris = df['spotify_track_uri'].unique()\n",
    "    print(f\"Getting features for {len(unique_uris)} unique tracks...\")\n",
    "    \n",
    "    # Create dictionary to store features\n",
    "    features_dict = {}\n",
    "    failed_uris = []\n",
    "    \n",
    "    # Process unique URIs in batches of 100\n",
    "    for i in tqdm(range(0, len(unique_uris), 100)):\n",
    "        batch = unique_uris[i:i+100]\n",
    "        \n",
    "        try:\n",
    "            # Get audio features for batch\n",
    "            audio_features = sp.audio_features(batch)\n",
    "            \n",
    "            \n",
    "            # Store features in dictionary and track failures\n",
    "            for uri, features in zip(batch, audio_features):\n",
    "                if features is not None:\n",
    "                    features_dict[uri] = features\n",
    "                else:\n",
    "                    failed_uris.append(uri)\n",
    "                    print(f\"Failed to get features for URI: {uri}\")\n",
    "                    # Try to get track info to see if it exists\n",
    "                    try:\n",
    "                        track_info = sp.track(uri)\n",
    "                        print(f\"Track exists: {track_info['name']} by {track_info['artists'][0]['name']}\")\n",
    "                    except:\n",
    "                        print(\"Could not get track info - track may not exist\")\n",
    "                    \n",
    "        except Exception as e:\n",
    "            print(f\"Error processing batch {i}-{i+100}: {str(e)}\")\n",
    "            failed_uris.extend(batch)\n",
    "        \n",
    "        time.sleep(0.25)  # Rate limiting\n",
    "    \n",
    "    # Print summary of failures\n",
    "    if failed_uris:\n",
    "        print(f\"\\nFailed to get features for {len(failed_uris)} tracks\")\n",
    "        print(\"\\nSample of failed tracks:\")\n",
    "        for uri in failed_uris[:5]:\n",
    "            tracks = df[df['spotify_track_uri'] == uri]\n",
    "            print(f\"\\nURI: {uri}\")\n",
    "            print(f\"Track name(s): {tracks['master_metadata_track_name'].unique()}\")\n",
    "            print(f\"Artist(s): {tracks['master_metadata_album_artist_name'].unique()}\")\n",
    "    \n",
    "    # Add feature columns to original dataframe\n",
    "    feature_cols = ['danceability', 'energy', 'key', 'loudness', 'mode', \n",
    "                   'speechiness', 'acousticness', 'instrumentalness',\n",
    "                   'liveness', 'valence', 'tempo', 'duration_ms', 'time_signature']\n",
    "    \n",
    "    # Initialize new columns with None\n",
    "    for col in feature_cols:\n",
    "        df[col] = None\n",
    "    \n",
    "    # Fill in features for each row\n",
    "    print(\"\\nAdding features to rows...\")\n",
    "    for i, row in tqdm(df.iterrows(), total=len(df)):\n",
    "        uri = row['spotify_track_uri']\n",
    "        if uri in features_dict:\n",
    "            for col in feature_cols:\n",
    "                df.at[i, col] = features_dict[uri][col]\n",
    "    \n",
    "    # Print summary\n",
    "    total_tracks = len(df)\n",
    "    tracks_with_features = df[df['danceability'].notna()].shape[0]\n",
    "    print(f\"\\nSummary:\")\n",
    "    print(f\"Total tracks: {total_tracks}\")\n",
    "    print(f\"Tracks with features: {tracks_with_features}\")\n",
    "    print(f\"Tracks without features: {total_tracks - tracks_with_features}\")\n",
    "    \n",
    "    return df"
   ]
  },
  {
   "cell_type": "code",
   "execution_count": 9,
   "id": "59b6ee5f-d93c-4470-aa98-5ec993fbb5c0",
   "metadata": {},
   "outputs": [
    {
     "name": "stdout",
     "output_type": "stream",
     "text": [
      "Getting features for 1498 unique tracks...\n"
     ]
    },
    {
     "name": "stderr",
     "output_type": "stream",
     "text": [
      "  0%|          | 0/15 [00:00<?, ?it/s]"
     ]
    },
    {
     "name": "stdout",
     "output_type": "stream",
     "text": [
      "Error processing batch 0-100: expected string or bytes-like object\n"
     ]
    },
    {
     "name": "stderr",
     "output_type": "stream",
     "text": [
      "100%|██████████| 15/15 [00:08<00:00,  1.85it/s]\n"
     ]
    },
    {
     "name": "stdout",
     "output_type": "stream",
     "text": [
      "\n",
      "Failed to get features for 100 tracks\n",
      "\n",
      "Sample of failed tracks:\n",
      "\n",
      "URI: spotify:track:0RGGAP5gpvToJyUZbiEcXO\n",
      "Track name(s): ['Bloody Samaritan (with Kelly Rowland) - Remix']\n",
      "Artist(s): ['Ayra Starr']\n",
      "\n",
      "URI: spotify:track:1D1hdsuMYmaAVOXnz9hdmt\n",
      "Track name(s): ['LEFT RIGHT']\n",
      "Artist(s): ['Wisa Greid']\n",
      "\n",
      "URI: spotify:track:1dxl7CSBstnOcLzWrQiBLj\n",
      "Track name(s): ['Allo']\n",
      "Artist(s): ['Youka']\n",
      "\n",
      "URI: spotify:track:66gOtDjvW09YUpXfAO5opn\n",
      "Track name(s): ['NO IDEA #jerseyclub (Ziahfyah & Indo2x Remix) - SLOWED & REVERB']\n",
      "Artist(s): ['Don Toliver']\n",
      "\n",
      "URI: spotify:track:5J1GXL8FDxHH1ki8oNz4hD\n",
      "Track name(s): ['Choco']\n",
      "Artist(s): ['Dj Verigal']\n",
      "\n",
      "Adding features to rows...\n"
     ]
    },
    {
     "name": "stderr",
     "output_type": "stream",
     "text": [
      "100%|██████████| 4517/4517 [00:00<00:00, 12220.10it/s]\n"
     ]
    },
    {
     "name": "stdout",
     "output_type": "stream",
     "text": [
      "\n",
      "Summary:\n",
      "Total tracks: 4517\n",
      "Tracks with features: 3878\n",
      "Tracks without features: 639\n",
      "Getting features for 2251 unique tracks...\n"
     ]
    },
    {
     "name": "stderr",
     "output_type": "stream",
     "text": [
      "  0%|          | 0/23 [00:00<?, ?it/s]"
     ]
    },
    {
     "name": "stdout",
     "output_type": "stream",
     "text": [
      "Error processing batch 0-100: expected string or bytes-like object\n"
     ]
    },
    {
     "name": "stderr",
     "output_type": "stream",
     "text": [
      "100%|██████████| 23/23 [00:12<00:00,  1.86it/s]\n"
     ]
    },
    {
     "name": "stdout",
     "output_type": "stream",
     "text": [
      "\n",
      "Failed to get features for 100 tracks\n",
      "\n",
      "Sample of failed tracks:\n",
      "\n",
      "URI: spotify:track:42m3eP1JJhtzffal9B136J\n",
      "Track name(s): ['7am On Bridle Path']\n",
      "Artist(s): ['Drake']\n",
      "\n",
      "URI: spotify:track:4s7TIubkdsgdtDEDFEAYVL\n",
      "Track name(s): ['Intro (Hate on Me)']\n",
      "Artist(s): ['Meek Mill']\n",
      "\n",
      "URI: spotify:track:5J6rTmMjF9DVIAF8G3M9n4\n",
      "Track name(s): ['Wandered To LA (with Justin Bieber)']\n",
      "Artist(s): ['Juice WRLD']\n",
      "\n",
      "URI: spotify:track:0lk5tzmaJWVAv5GBvpm3xu\n",
      "Track name(s): ['Peru']\n",
      "Artist(s): ['Fireboy DML']\n",
      "\n",
      "URI: spotify:track:2sw9r0DEwO1Nqg6eBtsCcc\n",
      "Track name(s): ['Enchanted Waterfall']\n",
      "Artist(s): ['Tory Lanez']\n",
      "\n",
      "Adding features to rows...\n"
     ]
    },
    {
     "name": "stderr",
     "output_type": "stream",
     "text": [
      "100%|██████████| 16620/16620 [00:01<00:00, 13625.98it/s]"
     ]
    },
    {
     "name": "stdout",
     "output_type": "stream",
     "text": [
      "\n",
      "Summary:\n",
      "Total tracks: 16620\n",
      "Tracks with features: 12320\n",
      "Tracks without features: 4300\n"
     ]
    },
    {
     "name": "stderr",
     "output_type": "stream",
     "text": [
      "\n"
     ]
    }
   ],
   "source": [
    "listen_2024 = get_spotify_features(listen24, client_id, client_secret)\n",
    "listen_2023 = get_spotify_features(listen24, client_id, client_secret)\n",
    "listen_2021_2022 = get_spotify_features(listen21_22, client_id, client_secret)"
   ]
  },
  {
   "cell_type": "code",
   "execution_count": 16,
   "id": "102b9645-f5c6-4787-9051-a79be6d7d100",
   "metadata": {},
   "outputs": [],
   "source": [
    "extended_history = pd.concat([listen_2021_2022, listen_2023, listen_2024], ignore_index=True)\n",
    "extended_history.to_csv('Detailed Listening History/full_history.csv')"
   ]
  }
 ],
 "metadata": {
  "kernelspec": {
   "display_name": "Python 3 (ipykernel)",
   "language": "python",
   "name": "python3"
  },
  "language_info": {
   "codemirror_mode": {
    "name": "ipython",
    "version": 3
   },
   "file_extension": ".py",
   "mimetype": "text/x-python",
   "name": "python",
   "nbconvert_exporter": "python",
   "pygments_lexer": "ipython3",
   "version": "3.12.7"
  }
 },
 "nbformat": 4,
 "nbformat_minor": 5
}
