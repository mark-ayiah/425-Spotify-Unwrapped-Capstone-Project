{
 "cells": [
  {
   "cell_type": "code",
   "execution_count": 1,
   "metadata": {},
   "outputs": [],
   "source": [
    "import json\n",
    "import pandas as pd\n",
    "from datetime import datetime\n",
    "import spotipy\n",
    "from spotipy.oauth2 import SpotifyOAuth\n",
    "from spotipy.oauth2 import SpotifyClientCredentials\n",
    "import time\n",
    "from tqdm import tqdm\n",
    "import numpy as np\n",
    "\n",
    "client_id = 'replace with your client id'\n",
    "client_secret = 'replace with your client secret'\n",
    "redirect_uri = 'replace with your redirect uri'"
   ]
  },
  {
   "cell_type": "code",
   "execution_count": 59,
   "metadata": {},
   "outputs": [],
   "source": [
    "client_credentials_manager = SpotifyClientCredentials(\n",
    "        client_id=client_id,\n",
    "        client_secret=client_secret\n",
    "    )\n",
    "sp = spotipy.Spotify(\n",
    "    client_credentials_manager=client_credentials_manager\n",
    ")"
   ]
  },
  {
   "cell_type": "code",
   "execution_count": 71,
   "metadata": {},
   "outputs": [],
   "source": [
    "# Load extended streaming history\n",
    "with open(\"Spotify Extended Streaming History/Streaming_History_Audio_2024_9.json\", 'r', encoding='utf-8') as file:\n",
    "    listen24 = pd.DataFrame(json.load(file))\n",
    "    \n",
    "with open(\"Spotify Extended Streaming History/Streaming_History_Audio_2023_7.json\", 'r', encoding='utf-8') as file:\n",
    "    listen23 = pd.DataFrame(json.load(file))\n",
    "                            \n",
    "with open(\"Spotify Extended Streaming History/Streaming_History_Audio_2021-2022_5.json\", 'r', encoding='utf-8') as file:\n",
    "    listen21_22 = pd.DataFrame(json.load(file))"
   ]
  },
  {
   "cell_type": "code",
   "execution_count": 60,
   "metadata": {},
   "outputs": [
    {
     "name": "stderr",
     "output_type": "stream",
     "text": [
      "100%|██████████| 30/30 [06:57<00:00, 13.92s/it]\n"
     ]
    }
   ],
   "source": [
    "def get_track_and_artist_info_batch(track_uris, batch_size=50):\n",
    "    results = {\n",
    "        'artist_ids': [],\n",
    "        'top_track_popularities': [],\n",
    "        'genres': [],\n",
    "        'track_popularities': []\n",
    "    }\n",
    "    \n",
    "    for i in tqdm(range(0, len(track_uris), batch_size)):\n",
    "        batch = track_uris[i:i + batch_size]\n",
    "        try:\n",
    "            # Get track info for whole batch at once\n",
    "            tracks = sp.tracks(batch)['tracks']\n",
    "            \n",
    "            # Get unique artist IDs from this batch of tracks\n",
    "            artist_ids = list(set(track['artists'][0]['id'] for track in tracks))\n",
    "            \n",
    "            # Get artist info for all artists in batch at once\n",
    "            artists = sp.artists(artist_ids)['artists']\n",
    "            artist_info = {artist['id']: artist for artist in artists}\n",
    "            \n",
    "            # Process each track\n",
    "            for track in tracks:\n",
    "                artist_id = track['artists'][0]['id']\n",
    "                artist = artist_info[artist_id]\n",
    "                \n",
    "                results['artist_ids'].append(artist_id)\n",
    "                results['genres'].append(artist['genres'])\n",
    "                results['track_popularities'].append(track['popularity'])\n",
    "                \n",
    "                # Get top track popularity from artist object\n",
    "                top_tracks = sp.artist_top_tracks(artist_id)['tracks']\n",
    "                top_popularity = max(t['popularity'] for t in top_tracks) if top_tracks else None\n",
    "                results['top_track_popularities'].append(top_popularity)\n",
    "            \n",
    "            # Small delay to avoid rate limits\n",
    "            time.sleep(1)\n",
    "            if i % (batch_size * 5) == 0:\n",
    "                time.sleep(30)\n",
    "            \n",
    "        except Exception as e:\n",
    "            print(f\"Error processing batch starting at {i}: {e}\")\n",
    "            # Add None values for failed batch\n",
    "            for _ in range(len(batch)):\n",
    "                results['artist_ids'].append(None)\n",
    "                results['top_track_popularities'].append(None)\n",
    "                results['genres'].append(None)\n",
    "                results['track_popularities'].append(None)\n",
    "            \n",
    "    return results\n",
    "\n",
    "unique_tracks = listen24['spotify_track_uri'].dropna().unique()\n",
    "res24 = get_track_and_artist_info_batch(unique_tracks)\n",
    "pd.DataFrame(results).to_csv('Cleaned_Data/2024RESULTS_REAL.csv')\n",
    "\n",
    "unique_tracks = listen23['spotify_track_uri'].dropna().unique()\n",
    "res23 = get_track_and_artist_info_batch(unique_tracks)\n",
    "pd.DataFrame(results).to_csv('Cleaned_Data/2023RESULTS_REAL.csv')\n",
    "\n",
    "unique_tracks = listen21_22['spotify_track_uri'].dropna().unique()\n",
    "res21 = get_track_and_artist_info_batch(unique_tracks)\n",
    "pd.DataFrame(results).to_csv('Cleaned_Data/2021_22RESULTS_REAL.csv')"
   ]
  },
  {
   "cell_type": "code",
   "execution_count": 65,
   "metadata": {},
   "outputs": [],
   "source": [
    "listen22_na = listen21_22.dropna(subset=['spotify_track_uri'])\n",
    "listen23_na = listen23.dropna(subset=['spotify_track_uri'])\n",
    "listen24_na = listen24.dropna(subset=['spotify_track_uri'])"
   ]
  },
  {
   "cell_type": "code",
   "execution_count": 81,
   "metadata": {},
   "outputs": [],
   "source": [
    "uri24 = pd.DataFrame({\"spotify_track_uri\": listen24_na['spotify_track_uri'].dropna().unique()})\n",
    "step1 = res24.merge(\n",
    "    uri24, \n",
    "    left_index=True, \n",
    "    right_index=True,\n",
    "    how='left'\n",
    ")\n",
    "\n",
    "listen24.merge(step1, left_on='spotify_track_uri', right_on='spotify_track_uri', how='left').drop(\n",
    "    columns = ['ts', 'username', 'platform', 'conn_country',\n",
    "       'ip_addr_decrypted', 'user_agent_decrypted','episode_name',\n",
    "       'episode_show_name', 'spotify_episode_uri', 'reason_start',\n",
    "       'reason_end', 'shuffle', 'skipped', 'offline', 'offline_timestamp',\n",
    "       'incognito_mode']).dropna().to_csv('Cleaned_Data/2024RESULTS_REAL.csv')\n",
    "\n",
    "uri23 = pd.DataFrame({\"spotify_track_uri\": listen23_na['spotify_track_uri'].dropna().unique()})\n",
    "step1 = res23.merge(\n",
    "    uri23, \n",
    "    left_index=True, \n",
    "    right_index=True,\n",
    "    how='left'\n",
    ")\n",
    "\n",
    "listen23.merge(step1, left_on='spotify_track_uri', right_on='spotify_track_uri', how='left').drop(\n",
    "    columns = ['ts', 'username', 'platform', 'conn_country',\n",
    "       'ip_addr_decrypted', 'user_agent_decrypted','episode_name',\n",
    "       'episode_show_name', 'spotify_episode_uri', 'reason_start',\n",
    "       'reason_end', 'shuffle', 'skipped', 'offline', 'offline_timestamp',\n",
    "       'incognito_mode']).dropna().to_csv('Cleaned_Data/2023RESULTS_REAL.csv')\n",
    "\n",
    "uri21 = pd.DataFrame({\"spotify_track_uri\": listen22_na['spotify_track_uri'].dropna().unique()})\n",
    "step1 = res21.merge(\n",
    "    uri21, \n",
    "    left_index=True, \n",
    "    right_index=True,\n",
    "    how='left'\n",
    ")\n",
    "\n",
    "listen21.merge(step1, left_on='spotify_track_uri', right_on='spotify_track_uri', how='left').drop(\n",
    "    columns = ['ts', 'username', 'platform', 'conn_country',\n",
    "       'ip_addr_decrypted', 'user_agent_decrypted','episode_name',\n",
    "       'episode_show_name', 'spotify_episode_uri', 'reason_start',\n",
    "       'reason_end', 'shuffle', 'skipped', 'offline', 'offline_timestamp',\n",
    "       'incognito_mode']).dropna().to_csv('Cleaned_Data/2021_22RESULTS_REAL.csv')"
   ]
  }
 ],
 "metadata": {
  "kernelspec": {
   "display_name": "Python 3 (ipykernel)",
   "language": "python",
   "name": "python3"
  },
  "language_info": {
   "codemirror_mode": {
    "name": "ipython",
    "version": 3
   },
   "file_extension": ".py",
   "mimetype": "text/x-python",
   "name": "python",
   "nbconvert_exporter": "python",
   "pygments_lexer": "ipython3",
   "version": "3.12.7"
  }
 },
 "nbformat": 4,
 "nbformat_minor": 4
}
